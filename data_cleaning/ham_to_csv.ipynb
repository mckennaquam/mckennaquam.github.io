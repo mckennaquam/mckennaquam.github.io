{
 "cells": [
  {
   "cell_type": "code",
   "execution_count": 43,
   "metadata": {},
   "outputs": [],
   "source": [
    "import re\n",
    "import pandas as pd"
   ]
  },
  {
   "cell_type": "code",
   "execution_count": 46,
   "metadata": {},
   "outputs": [],
   "source": [
    "with open('texts/hamlet_TXT_FolgerShakespeare.txt', 'r') as file:\n",
    "    ham = file.read()"
   ]
  },
  {
   "cell_type": "code",
   "execution_count": 47,
   "metadata": {},
   "outputs": [],
   "source": [
    "# extracting just the play text\n",
    "act_1_index = ham.find(\"ACT 1\")\n",
    "ham = ham[act_1_index:]\n",
    "\n",
    "# remove all stage direction (enclosed in [])\n",
    "#ham = re.sub(r'\\[.*?\\]', '', ham)\n",
    "#ham = re.sub(r'\\[.*$', '', ham)\n",
    "#ham = re.sub(r'^.*?\\]\\s*', '', ham)\n",
    "\n",
    "ham = re.sub(r'\\[.*?\\]', '', ham, flags=re.DOTALL)"
   ]
  },
  {
   "cell_type": "code",
   "execution_count": 48,
   "metadata": {},
   "outputs": [
    {
     "name": "stdout",
     "output_type": "stream",
     "text": [
      "['ACT', 'BARNARDO', 'FRANCISCO', 'HORATIO', 'MARCELLUS', 'KING', 'CORNELIUS', 'VOLTEMAND', 'LAERTES', 'POLONIUS', 'HAMLET', 'QUEEN', 'ALL', 'OPHELIA', 'GHOST', 'REYNALDO', 'ROSENCRANTZ', 'GUILDENSTERN', 'FIRST PLAYER', 'PLAYER', 'PROLOGUE', 'PLAYER KING', 'PLAYER QUEEN', 'LUCIANUS', 'GENTLEMEN', 'FORTINBRAS', 'CAPTAIN', 'GENTLEMAN', 'MESSENGER', 'SAILOR', 'GRAVEDIGGER', 'OTHER', 'DOCTOR', 'OSRIC', 'LORD', 'AMBASSADOR']\n"
     ]
    }
   ],
   "source": [
    "# finding all character names which indicate the start of the line\n",
    "# in this text when a character starts speaking their name is put into full caps \n",
    "# thus finding all full caps strings will give a list of characters\n",
    "names = re.findall(r'\\b[A-Z]{2,}(?: [A-Z]+)?\\b', ham)\n",
    "ham_char_names = []\n",
    "[ham_char_names.append(x) for x in names if x not in ham_char_names]\n",
    "print(ham_char_names)"
   ]
  },
  {
   "cell_type": "code",
   "execution_count": 49,
   "metadata": {},
   "outputs": [],
   "source": [
    "# split on double new line (this should be for new character speaking)\n",
    "ham = ham.split(\"\\n\\n\")\n",
    "#ham = ham.split(\"\\n\")"
   ]
  },
  {
   "cell_type": "code",
   "execution_count": 50,
   "metadata": {},
   "outputs": [],
   "source": [
    "# for each line replace any new lines with spaces\n",
    "# remove the act breaks\n",
    "# remove leading or trailing white space\n",
    "for i in range(len(ham)):\n",
    "    text = ham[i]\n",
    "    text = text.replace(\"\\n\", \" \")\n",
    "    text = text.replace(\"=\", \"\")\n",
    "    ham[i] = text.strip()\n",
    "\n",
    "# remvove any chunks which are empty from this cleaning\n",
    "ham = [text for text in ham if text != \"\"]"
   ]
  },
  {
   "cell_type": "code",
   "execution_count": 51,
   "metadata": {},
   "outputs": [],
   "source": [
    "act = 0\n",
    "scene = 0\n",
    "sentance_number = 0\n",
    "speaker = \"\"\n",
    "last_speaker = \"\"\n",
    "\n",
    "\n",
    "# splitting the text by sentence\n",
    "# sentence end are . ! ?\n",
    "df = pd.DataFrame(columns=['act', 'scene', 'sentence_number', 'speaker', 'text'])\n",
    "\n",
    "\n",
    "# character is always frist word in the chunk\n",
    "def character_speaking(text, last_speaker):\n",
    "    # splits the text into individual words\n",
    "    words = text.split()\n",
    "    if words:\n",
    "        if (words[0].isupper() and (words[0] not in [\"A\", \"I\", \"O\", \"A,\", \"O,\", \"I,\", \"I'\"])):\n",
    "            # removing the comma from the end of the speaker if it is present\n",
    "            # (leftover from removing stage names)\n",
    "            speaker = words[0].replace(\",\", \"\").strip()\n",
    "                \n",
    "            # accounting for speakers who have 2 word names (FIRST SENATOR)\n",
    "            if (words[1].isupper() and words[1] not in [\"A\", \"I\", \"O\", \"A,\", \"O,\", \"I,\", \"I'\"]):\n",
    "                # attach second part of name to speaker\n",
    "                speaker = speaker + \" \" + words[1].replace(\",\", \"\").strip()\n",
    "                # returns speaker and the rest of the line rejoined\n",
    "                return speaker, \" \".join(words[2:])\n",
    "            else:\n",
    "                # returns the speaker and the rest of the line rejoined\n",
    "                return speaker, \" \".join(words[1:])\n",
    "        else:\n",
    "            return last_speaker, \" \".join(words)\n",
    "\n",
    "    return \"error something's wrong!\"\n",
    "\n",
    "# for each line in hamlet\n",
    "for text in ham:\n",
    "    # if the line is in for \"ACT i\" we record that it is the new act\n",
    "    if (text.startswith(\"ACT\") and text[-1].isdigit):\n",
    "            act = int(text[-1])\n",
    "    # if the line is \"Scene i\" we record that it is a new scene\n",
    "    # reset the sentance counter to 0\n",
    "    elif (text.startswith(\"Scene\") and text[-1].isdigit):\n",
    "        #print(text)\n",
    "        scene = int(text[-1])\n",
    "        sentance_number = 0\n",
    "    else:\n",
    "        # get the speaker from the line\n",
    "        speaker, spoken = character_speaking(text, last_speaker)\n",
    "        last_speaker = speaker\n",
    "\n",
    "        # split the line into sentences\n",
    "        # I am counting the end of a sentace as . ? or !\n",
    "        lines = re.split(r\"(?<!\\w\\.\\w)(?<![A-Z][a-z]\\.)(?<=\\.|\\?|!)\\s\", spoken)\n",
    "\n",
    "        # for each sentance in the line\n",
    "        for line in lines:\n",
    "            # increment the sentence counter\n",
    "            sentance_number += 1\n",
    "            # add it to the dataframe with act, scene, setence number, and speaker attached\n",
    "            df.loc[len(df)] = [act, scene, sentance_number, speaker, line]\n",
    "\n",
    "df.to_csv(\"hamlet_by_sentence.csv\")"
   ]
  },
  {
   "cell_type": "code",
   "execution_count": 52,
   "metadata": {},
   "outputs": [
    {
     "data": {
      "text/plain": [
       "array(['BARNARDO', 'FRANCISCO', 'HORATIO', 'MARCELLUS', 'KING',\n",
       "       'CORNELIUS/VOLTEMAND', 'LAERTES', 'POLONIUS', 'HAMLET', 'QUEEN',\n",
       "       'ALL', 'BARNARDO/MARCELLUS', 'OPHELIA', 'GHOST',\n",
       "       'HORATIO/MARCELLUS', 'REYNALDO', 'ROSENCRANTZ', 'GUILDENSTERN',\n",
       "       'VOLTEMAND', 'ROSENCRANTZ/GUILDENSTERN', 'FIRST PLAYER', 'PLAYER',\n",
       "       'PROLOGUE', 'PLAYER KING', 'PLAYER QUEEN', 'LUCIANUS', 'GENTLEMEN',\n",
       "       'FORTINBRAS', 'CAPTAIN', 'GENTLEMAN', 'MESSENGER', 'SAILOR',\n",
       "       'GRAVEDIGGER', 'OTHER', 'DOCTOR', 'OSRIC', 'LORD', 'AMBASSADOR'],\n",
       "      dtype=object)"
      ]
     },
     "execution_count": 52,
     "metadata": {},
     "output_type": "execute_result"
    }
   ],
   "source": [
    "df[\"speaker\"].unique()"
   ]
  },
  {
   "cell_type": "code",
   "execution_count": 53,
   "metadata": {},
   "outputs": [],
   "source": [
    "df = pd.DataFrame(columns=['act', 'scene', 'sentence_number', 'speaker', 'text'])\n",
    "\n",
    "act = 0\n",
    "scene = 0\n",
    "sentance_number = 0\n",
    "\n",
    "last_speaker = \"\"\n",
    "line = \"\"\n",
    "\n",
    "\n",
    "# character is always frist word in the chunk\n",
    "def character_speaking_2(text, last_speaker):\n",
    "    # splits the text into individual words\n",
    "    words = text.split()\n",
    "\n",
    "    if (len(words) > 0):\n",
    "        \n",
    "        if (words[0].isupper() and (words[0] not in [\"A\", \"I\", \"O\", \"A,\", \"O,\", \"I,\", \"I'\"])):\n",
    "            # removing the comma from the end of the speaker if it is present\n",
    "            # (leftover from removing stage names)\n",
    "            speaker = words[0].replace(\",\", \"\").strip()\n",
    "                \n",
    "            # accounting for speakers who have 2 word names (FIRST SENATOR)\n",
    "            if (words[1].isupper() and words[1] not in [\"A\", \"I\", \"O\", \"A,\", \"O,\", \"I,\", \"I'\"]):\n",
    "                # attach second part of name to speaker\n",
    "                speaker = speaker + \" \" + words[1].replace(\",\", \"\").strip()\n",
    "                # some lines are broken up by newline from pervious\n",
    "                # in case the speaker is the last speaker\n",
    "                # returns speaker and the rest of the line rejoined\n",
    "                return speaker, \" \".join(words[2:])\n",
    "            else:\n",
    "                # returns the speaker and the rest of the line rejoined\n",
    "                return speaker, \" \".join(words[1:])\n",
    "        else:\n",
    "            return last_speaker, \" \".join(words)\n",
    "\n",
    "    return \"error something's wrong!\"\n",
    "\n",
    "\n",
    "for text in ham:\n",
    "    # if the line is in for \"ACT i\" we record that it is the new act\n",
    "    if (text.startswith(\"ACT\") and text[-1].isdigit):\n",
    "        act = int(text[-1])\n",
    "        # if the line is \"Scene i\" we record that it is a new scene\n",
    "        # reset the sentance counter to 0\n",
    "    elif (text.startswith(\"Scene\") and text[-1].isdigit):\n",
    "        scene = int(text[-1])\n",
    "        sentance_number = 0\n",
    "    else:\n",
    "        #print(character_speaking_2(text, last_speaker))\n",
    "        speaker, spoken = character_speaking_2(text, last_speaker)\n",
    "        \n",
    "        if speaker != last_speaker:\n",
    "            # increment the sentence counter\n",
    "            sentance_number += 1\n",
    "            # add it to the dataframe with act, scene, setence number, and speaker attached\n",
    "            df.loc[len(df)] = [act, scene, sentance_number, speaker, spoken.strip()]\n",
    "            last_speaker = speaker\n",
    "        else:\n",
    "            text = df.iloc[len(df)-1, 4]\n",
    "            df.iloc[len(df)-1, 4] = text + spoken\n",
    "            \n",
    "\n",
    "df.to_csv(\"hamlet_by_uninterupted_speaker.csv\")"
   ]
  },
  {
   "cell_type": "code",
   "execution_count": 54,
   "metadata": {},
   "outputs": [
    {
     "data": {
      "text/plain": [
       "array(['BARNARDO', 'FRANCISCO', 'HORATIO', 'MARCELLUS', 'KING',\n",
       "       'CORNELIUS/VOLTEMAND', 'LAERTES', 'POLONIUS', 'HAMLET', 'QUEEN',\n",
       "       'ALL', 'BARNARDO/MARCELLUS', 'OPHELIA', 'GHOST',\n",
       "       'HORATIO/MARCELLUS', 'REYNALDO', 'ROSENCRANTZ', 'GUILDENSTERN',\n",
       "       'VOLTEMAND', 'ROSENCRANTZ/GUILDENSTERN', 'FIRST PLAYER', 'PLAYER',\n",
       "       'PROLOGUE', 'PLAYER KING', 'PLAYER QUEEN', 'LUCIANUS', 'GENTLEMEN',\n",
       "       'FORTINBRAS', 'CAPTAIN', 'GENTLEMAN', 'MESSENGER', 'SAILOR',\n",
       "       'GRAVEDIGGER', 'OTHER', 'DOCTOR', 'OSRIC', 'LORD', 'AMBASSADOR'],\n",
       "      dtype=object)"
      ]
     },
     "execution_count": 54,
     "metadata": {},
     "output_type": "execute_result"
    }
   ],
   "source": [
    "df[\"speaker\"].unique()"
   ]
  }
 ],
 "metadata": {
  "kernelspec": {
   "display_name": "Python 3",
   "language": "python",
   "name": "python3"
  },
  "language_info": {
   "codemirror_mode": {
    "name": "ipython",
    "version": 3
   },
   "file_extension": ".py",
   "mimetype": "text/x-python",
   "name": "python",
   "nbconvert_exporter": "python",
   "pygments_lexer": "ipython3",
   "version": "3.12.2 (v3.12.2:6abddd9f6a, Feb  6 2024, 17:02:06) [Clang 13.0.0 (clang-1300.0.29.30)]"
  },
  "orig_nbformat": 4,
  "vscode": {
   "interpreter": {
    "hash": "aee8b7b246df8f9039afb4144a1f6fd8d2ca17a180786b69acc140d282b71a49"
   }
  }
 },
 "nbformat": 4,
 "nbformat_minor": 2
}
