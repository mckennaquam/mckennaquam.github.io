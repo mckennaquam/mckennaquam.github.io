{
 "cells": [
  {
   "cell_type": "code",
   "execution_count": 13,
   "metadata": {},
   "outputs": [],
   "source": [
    "from nltk.sentiment.vader import SentimentIntensityAnalyzer\n",
    "import pandas as pd"
   ]
  },
  {
   "cell_type": "code",
   "execution_count": 14,
   "metadata": {},
   "outputs": [
    {
     "name": "stdout",
     "output_type": "stream",
     "text": [
      "{'neg': 0.198, 'neu': 0.802, 'pos': 0.0, 'compound': -0.5719}\n"
     ]
    }
   ],
   "source": [
    "analyzer = SentimentIntensityAnalyzer()\n",
    "\n",
    "example_sentance_1 = \"I hate the Moor, And it is thought abroad that ’twixt my sheets ’Has done my office.\"\n",
    "\n",
    "print(analyzer.polarity_scores(example_sentance_1))\n",
    "\n"
   ]
  },
  {
   "cell_type": "code",
   "execution_count": 15,
   "metadata": {},
   "outputs": [
    {
     "name": "stdout",
     "output_type": "stream",
     "text": [
      "{'neg': 0.214, 'neu': 0.476, 'pos': 0.31, 'compound': 0.5267}\n"
     ]
    }
   ],
   "source": [
    "example_sentance_2 =  \"She loved me for the dangers I had passed, And I loved her that she did pity them.\"\n",
    "\n",
    "print(analyzer.polarity_scores(example_sentance_2))"
   ]
  },
  {
   "cell_type": "code",
   "execution_count": 16,
   "metadata": {},
   "outputs": [],
   "source": [
    "path = \"/Users/mckennaquam/Desktop/ENGL 1600/final_proj/csvs/othello_by_sentence.csv\"\n",
    "\n",
    "df = pd.read_csv(path, index_col=0)"
   ]
  },
  {
   "cell_type": "code",
   "execution_count": 17,
   "metadata": {},
   "outputs": [
    {
     "data": {
      "text/plain": [
       "25"
      ]
     },
     "execution_count": 17,
     "metadata": {},
     "output_type": "execute_result"
    }
   ],
   "source": [
    "len(df[\"speaker\"].unique())"
   ]
  },
  {
   "cell_type": "code",
   "execution_count": 18,
   "metadata": {},
   "outputs": [],
   "source": [
    "analyzer = SentimentIntensityAnalyzer()\n",
    "\n",
    "def get_neg_sentiment(text):\n",
    "    return analyzer.polarity_scores(text)[\"neg\"]\n",
    "\n",
    "def get_neu_sentiment(text):\n",
    "    return analyzer.polarity_scores(text)[\"neu\"]\n",
    "\n",
    "def get_pos_sentiment(text):\n",
    "    return analyzer.polarity_scores(text)[\"pos\"]\n",
    "\n",
    "def get_compound_sentiment(text):\n",
    "    return analyzer.polarity_scores(text)[\"compound\"]\n",
    "\n",
    "\n",
    "df[\"neg_sentiment\"] = df[\"text\"].apply(get_neg_sentiment)\n",
    "df[\"neu_sentiment\"] = df[\"text\"].apply(get_neu_sentiment)\n",
    "df[\"pos_sentiment\"] = df[\"text\"].apply(get_pos_sentiment)\n",
    "df[\"compound_sentiment\"] = df[\"text\"].apply(get_compound_sentiment)"
   ]
  },
  {
   "cell_type": "code",
   "execution_count": 19,
   "metadata": {},
   "outputs": [],
   "source": [
    "def act_scene(row):\n",
    "    act = str(row[\"act\"]).strip()\n",
    "    scene = str(row[\"scene\"]).strip()\n",
    "    return act + \".\" + scene\n",
    "\n",
    "df[\"act_scene\"] = df.apply(act_scene, axis=1)\n",
    "\n",
    "df[\"speaker\"] = df[\"speaker\"].str.title()"
   ]
  },
  {
   "cell_type": "code",
   "execution_count": 20,
   "metadata": {},
   "outputs": [],
   "source": [
    "import altair as alt"
   ]
  },
  {
   "cell_type": "code",
   "execution_count": 21,
   "metadata": {},
   "outputs": [],
   "source": [
    "df_i = df[df[\"speaker\"] == \"Iago\"].copy()\n",
    "df_i[\"line_index\"] = range(1, len(df_i)+1)\n",
    "\n",
    "df_i['cumulative_neg_sentiment'] = df_i['neg_sentiment'].cumsum()\n",
    "df_i['cumulative_compound_sentiment'] = df_i['compound_sentiment'].cumsum()\n",
    "\n",
    "df_o = df[df[\"speaker\"] == \"Othello\"].copy()\n",
    "df_o[\"line_index\"] = range(1, len(df_o)+1)\n",
    "\n",
    "df_o['cumulative_neg_sentiment'] = df_o['neg_sentiment'].cumsum()\n",
    "df_o['cumulative_compound_sentiment'] = df_o['compound_sentiment'].cumsum()\n",
    "\n",
    "df_combined = pd.concat([df_i, df_o], axis=0)\n",
    "\n",
    "domain = [\"Othello\", \"Iago\"]\n",
    "range_ = [\"#FFA600\", \"#D11033\"]\n",
    "\n",
    "df_neg = df_combined[[\"line_index\", \"cumulative_neg_sentiment\", \"speaker\"]]\n",
    "\n",
    "chart = alt.Chart(df_neg).mark_line().encode(\n",
    "    alt.X(\"line_index:Q\", title=\"Sentence Number\"),\n",
    "    alt.Y(\"cumulative_neg_sentiment:Q\", title= \"Cumulative Negative Sentiment\"), \n",
    "    alt.Color(\"speaker\", title=\"Characters\", scale=alt.Scale(domain=domain, range=range_))\n",
    ").properties(\n",
    "    title = \"Cumulative Negative Sentiment for Iago and Othello\"\n",
    ")\n",
    "\n",
    "#chart.save(\"neg_sentiment.png\", ppi=200)"
   ]
  },
  {
   "cell_type": "code",
   "execution_count": 22,
   "metadata": {},
   "outputs": [
    {
     "data": {
      "text/html": [
       "<div>\n",
       "<style scoped>\n",
       "    .dataframe tbody tr th:only-of-type {\n",
       "        vertical-align: middle;\n",
       "    }\n",
       "\n",
       "    .dataframe tbody tr th {\n",
       "        vertical-align: top;\n",
       "    }\n",
       "\n",
       "    .dataframe thead th {\n",
       "        text-align: right;\n",
       "    }\n",
       "</style>\n",
       "<table border=\"1\" class=\"dataframe\">\n",
       "  <thead>\n",
       "    <tr style=\"text-align: right;\">\n",
       "      <th></th>\n",
       "      <th>act</th>\n",
       "      <th>scene</th>\n",
       "      <th>sentence_number</th>\n",
       "      <th>speaker</th>\n",
       "      <th>text</th>\n",
       "      <th>neg_sentiment</th>\n",
       "      <th>neu_sentiment</th>\n",
       "      <th>pos_sentiment</th>\n",
       "      <th>compound_sentiment</th>\n",
       "      <th>act_scene</th>\n",
       "      <th>line_index</th>\n",
       "      <th>cumulative_neg_sentiment</th>\n",
       "      <th>cumulative_compound_sentiment</th>\n",
       "    </tr>\n",
       "  </thead>\n",
       "  <tbody>\n",
       "    <tr>\n",
       "      <th>2630</th>\n",
       "      <td>5</td>\n",
       "      <td>2</td>\n",
       "      <td>383</td>\n",
       "      <td>Othello</td>\n",
       "      <td>No way but this, Killing myself, to die upon a...</td>\n",
       "      <td>0.596</td>\n",
       "      <td>0.25</td>\n",
       "      <td>0.154</td>\n",
       "      <td>-0.9122</td>\n",
       "      <td>5.2</td>\n",
       "      <td>664</td>\n",
       "      <td>70.069</td>\n",
       "      <td>26.874</td>\n",
       "    </tr>\n",
       "  </tbody>\n",
       "</table>\n",
       "</div>"
      ],
      "text/plain": [
       "      act  scene  sentence_number  speaker  \\\n",
       "2630    5      2              383  Othello   \n",
       "\n",
       "                                                   text  neg_sentiment  \\\n",
       "2630  No way but this, Killing myself, to die upon a...          0.596   \n",
       "\n",
       "      neu_sentiment  pos_sentiment  compound_sentiment act_scene  line_index  \\\n",
       "2630           0.25          0.154             -0.9122       5.2         664   \n",
       "\n",
       "      cumulative_neg_sentiment  cumulative_compound_sentiment  \n",
       "2630                    70.069                         26.874  "
      ]
     },
     "execution_count": 22,
     "metadata": {},
     "output_type": "execute_result"
    }
   ],
   "source": [
    "df_o[df_o[\"cumulative_neg_sentiment\"] == max(df_o[\"cumulative_neg_sentiment\"])]"
   ]
  },
  {
   "cell_type": "code",
   "execution_count": 23,
   "metadata": {},
   "outputs": [
    {
     "data": {
      "text/html": [
       "<div>\n",
       "<style scoped>\n",
       "    .dataframe tbody tr th:only-of-type {\n",
       "        vertical-align: middle;\n",
       "    }\n",
       "\n",
       "    .dataframe tbody tr th {\n",
       "        vertical-align: top;\n",
       "    }\n",
       "\n",
       "    .dataframe thead th {\n",
       "        text-align: right;\n",
       "    }\n",
       "</style>\n",
       "<table border=\"1\" class=\"dataframe\">\n",
       "  <thead>\n",
       "    <tr style=\"text-align: right;\">\n",
       "      <th></th>\n",
       "      <th>act</th>\n",
       "      <th>scene</th>\n",
       "      <th>sentence_number</th>\n",
       "      <th>speaker</th>\n",
       "      <th>text</th>\n",
       "      <th>neg_sentiment</th>\n",
       "      <th>neu_sentiment</th>\n",
       "      <th>pos_sentiment</th>\n",
       "      <th>compound_sentiment</th>\n",
       "      <th>act_scene</th>\n",
       "      <th>line_index</th>\n",
       "      <th>cumulative_neg_sentiment</th>\n",
       "      <th>cumulative_compound_sentiment</th>\n",
       "    </tr>\n",
       "  </thead>\n",
       "  <tbody>\n",
       "    <tr>\n",
       "      <th>2595</th>\n",
       "      <td>5</td>\n",
       "      <td>2</td>\n",
       "      <td>348</td>\n",
       "      <td>Iago</td>\n",
       "      <td>Demand me nothing.</td>\n",
       "      <td>0.429</td>\n",
       "      <td>0.571</td>\n",
       "      <td>0.0</td>\n",
       "      <td>-0.128</td>\n",
       "      <td>5.2</td>\n",
       "      <td>762</td>\n",
       "      <td>70.219</td>\n",
       "      <td>42.9023</td>\n",
       "    </tr>\n",
       "    <tr>\n",
       "      <th>2596</th>\n",
       "      <td>5</td>\n",
       "      <td>2</td>\n",
       "      <td>349</td>\n",
       "      <td>Iago</td>\n",
       "      <td>What you know, you know.</td>\n",
       "      <td>0.000</td>\n",
       "      <td>1.000</td>\n",
       "      <td>0.0</td>\n",
       "      <td>0.000</td>\n",
       "      <td>5.2</td>\n",
       "      <td>763</td>\n",
       "      <td>70.219</td>\n",
       "      <td>42.9023</td>\n",
       "    </tr>\n",
       "    <tr>\n",
       "      <th>2597</th>\n",
       "      <td>5</td>\n",
       "      <td>2</td>\n",
       "      <td>350</td>\n",
       "      <td>Iago</td>\n",
       "      <td>From this time forth I never will speak word.</td>\n",
       "      <td>0.000</td>\n",
       "      <td>1.000</td>\n",
       "      <td>0.0</td>\n",
       "      <td>0.000</td>\n",
       "      <td>5.2</td>\n",
       "      <td>764</td>\n",
       "      <td>70.219</td>\n",
       "      <td>42.9023</td>\n",
       "    </tr>\n",
       "  </tbody>\n",
       "</table>\n",
       "</div>"
      ],
      "text/plain": [
       "      act  scene  sentence_number speaker  \\\n",
       "2595    5      2              348    Iago   \n",
       "2596    5      2              349    Iago   \n",
       "2597    5      2              350    Iago   \n",
       "\n",
       "                                               text  neg_sentiment  \\\n",
       "2595                             Demand me nothing.          0.429   \n",
       "2596                       What you know, you know.          0.000   \n",
       "2597  From this time forth I never will speak word.          0.000   \n",
       "\n",
       "      neu_sentiment  pos_sentiment  compound_sentiment act_scene  line_index  \\\n",
       "2595          0.571            0.0              -0.128       5.2         762   \n",
       "2596          1.000            0.0               0.000       5.2         763   \n",
       "2597          1.000            0.0               0.000       5.2         764   \n",
       "\n",
       "      cumulative_neg_sentiment  cumulative_compound_sentiment  \n",
       "2595                    70.219                        42.9023  \n",
       "2596                    70.219                        42.9023  \n",
       "2597                    70.219                        42.9023  "
      ]
     },
     "execution_count": 23,
     "metadata": {},
     "output_type": "execute_result"
    }
   ],
   "source": [
    "df_i[df_i[\"cumulative_neg_sentiment\"] == max(df_i[\"cumulative_neg_sentiment\"])]"
   ]
  },
  {
   "cell_type": "code",
   "execution_count": 24,
   "metadata": {},
   "outputs": [],
   "source": [
    "domain = [\"Othello\", \"Iago\"]\n",
    "range_ = [\"#FFA600\", \"#D11033\"]\n",
    "\n",
    "#df_compound = df_combined[[\"line_index\", \"cumulative_compound_sentiment\", \"speaker\"]]\n",
    "\n",
    "compound = alt.Chart(df_combined).mark_line().encode(\n",
    "    alt.X(\"line_index\", title=\"Sentence Number\"),\n",
    "    alt.Y(\"cumulative_compound_sentiment\", title=\"Cumulative Compound Sentiment\"), \n",
    "    alt.Color(\"speaker\", title=\"Character\", scale=alt.Scale(domain=domain, range=range_)),\n",
    ").properties(\n",
    "    title = \"Cumulative Sentiment Scores for Iago and Othello\"\n",
    ")\n",
    "\n",
    "#compound.save(\"compound_cum_sentiment.png\", ppi=200)"
   ]
  },
  {
   "cell_type": "code",
   "execution_count": 25,
   "metadata": {},
   "outputs": [],
   "source": [
    "def words_in_sentence(text):\n",
    "    return len(text.split())\n",
    "\n",
    "def act_to_word(i):\n",
    "    return \"Act \" + str(i)\n",
    "\n",
    "df[\"act_word\"] = df[\"act\"].apply(act_to_word)\n",
    "\n",
    "def tooltip_text(row):\n",
    "    return row[\"speaker\"] + \" \" +row[\"act_scene\"] + \": \" + row[\"text\"]\n",
    "\n",
    "\n",
    "df[\"words_in_text\"] = df[\"text\"].apply(words_in_sentence)\n",
    "df[\"tooltip_text\"] = df.apply(tooltip_text, axis=1)\n",
    "\n",
    "selection = alt.selection_point(fields=['act_word'], bind='legend')\n",
    "\n",
    "domain = [\"Act 1\", \"Act 2\", \"Act 3\", \"Act 4\", \"Act 5\"]\n",
    "range_ = [\"#FFA600\", \"#D11033\", \"#5E3781\", \"#47682C\", \"#077187\"]\n",
    "\n",
    "df_filtered = df[[\"compound_sentiment\", \"words_in_text\", \"tooltip_text\", \"act_word\"]]\n",
    "\n",
    "points = alt.Chart(df_filtered).mark_point().encode(\n",
    "    x=alt.X(\"compound_sentiment\", title=\"Compund Sentiment Score\"),\n",
    "    y=alt.Y(\"words_in_text\", title=\"Length of Sentence\"),\n",
    "    tooltip=alt.Tooltip(\"tooltip_text\"),\n",
    "    color=alt.Color(\"act_word:N\", title=\"Act\", scale=alt.Scale(domain=domain, range=range_)),\n",
    "    opacity=alt.when(selection).then(alt.value(1)).otherwise(alt.value(0))\n",
    ").properties(\n",
    "    width=900,\n",
    "    height=500,\n",
    "    title = \"Compound Sentiment Score for all Sentences in Othello\"\n",
    ").add_params(\n",
    "    selection\n",
    ")\n",
    "\n",
    "#points.save(\"all_sentiment_points.html\")"
   ]
  },
  {
   "cell_type": "code",
   "execution_count": 26,
   "metadata": {},
   "outputs": [
    {
     "data": {
      "text/html": [
       "<div>\n",
       "<style scoped>\n",
       "    .dataframe tbody tr th:only-of-type {\n",
       "        vertical-align: middle;\n",
       "    }\n",
       "\n",
       "    .dataframe tbody tr th {\n",
       "        vertical-align: top;\n",
       "    }\n",
       "\n",
       "    .dataframe thead th {\n",
       "        text-align: right;\n",
       "    }\n",
       "</style>\n",
       "<table border=\"1\" class=\"dataframe\">\n",
       "  <thead>\n",
       "    <tr style=\"text-align: right;\">\n",
       "      <th></th>\n",
       "      <th>min</th>\n",
       "      <th>mean</th>\n",
       "      <th>max</th>\n",
       "    </tr>\n",
       "    <tr>\n",
       "      <th>act</th>\n",
       "      <th></th>\n",
       "      <th></th>\n",
       "      <th></th>\n",
       "    </tr>\n",
       "  </thead>\n",
       "  <tbody>\n",
       "    <tr>\n",
       "      <th>1</th>\n",
       "      <td>1</td>\n",
       "      <td>12.852459</td>\n",
       "      <td>106</td>\n",
       "    </tr>\n",
       "    <tr>\n",
       "      <th>2</th>\n",
       "      <td>1</td>\n",
       "      <td>11.414079</td>\n",
       "      <td>93</td>\n",
       "    </tr>\n",
       "    <tr>\n",
       "      <th>3</th>\n",
       "      <td>1</td>\n",
       "      <td>10.056122</td>\n",
       "      <td>71</td>\n",
       "    </tr>\n",
       "    <tr>\n",
       "      <th>4</th>\n",
       "      <td>1</td>\n",
       "      <td>8.439523</td>\n",
       "      <td>62</td>\n",
       "    </tr>\n",
       "    <tr>\n",
       "      <th>5</th>\n",
       "      <td>1</td>\n",
       "      <td>7.110307</td>\n",
       "      <td>64</td>\n",
       "    </tr>\n",
       "  </tbody>\n",
       "</table>\n",
       "</div>"
      ],
      "text/plain": [
       "     min       mean  max\n",
       "act                     \n",
       "1      1  12.852459  106\n",
       "2      1  11.414079   93\n",
       "3      1  10.056122   71\n",
       "4      1   8.439523   62\n",
       "5      1   7.110307   64"
      ]
     },
     "execution_count": 26,
     "metadata": {},
     "output_type": "execute_result"
    }
   ],
   "source": [
    "df.groupby(\"act\")[\"words_in_text\"].agg([\"min\", \"mean\", \"max\"])"
   ]
  },
  {
   "cell_type": "code",
   "execution_count": 27,
   "metadata": {},
   "outputs": [
    {
     "name": "stderr",
     "output_type": "stream",
     "text": [
      "/var/folders/j0/5vzg02dn3ln14ntm75wgfw140000gn/T/ipykernel_46391/82969402.py:5: SettingWithCopyWarning: \n",
      "A value is trying to be set on a copy of a slice from a DataFrame.\n",
      "Try using .loc[row_indexer,col_indexer] = value instead\n",
      "\n",
      "See the caveats in the documentation: https://pandas.pydata.org/pandas-docs/stable/user_guide/indexing.html#returning-a-view-versus-a-copy\n",
      "  df_moor[\"pos_compund\"] = df_moor[\"compound_sentiment\"] >= 0\n",
      "/var/folders/j0/5vzg02dn3ln14ntm75wgfw140000gn/T/ipykernel_46391/82969402.py:9: AltairDeprecationWarning: \n",
      "Deprecated since `altair=5.0.0`. Use selection_point instead.\n",
      "  click = alt.selection_multi(encodings=['x'])\n"
     ]
    }
   ],
   "source": [
    "df[\"moor_boolean\"] = df['text'].str.contains('moor', case=False)\n",
    "\n",
    "df_moor = df[df[\"moor_boolean\"]]\n",
    "\n",
    "df_moor[\"pos_compund\"] = df_moor[\"compound_sentiment\"] >= 0\n",
    "\n",
    "speaker_order = df_moor['speaker'].value_counts().index.tolist()\n",
    "\n",
    "click = alt.selection_multi(encodings=['x'])\n",
    "\n",
    "domain = [False, True]\n",
    "range_ = [\"#077187\", \"#FFA600\",]\n",
    "\n",
    "df_filtered = df_moor[[\"speaker\", \"pos_compund\", \"act_scene\", \"compound_sentiment\", \"tooltip_text\"]]\n",
    "\n",
    "speaker_hist = alt.Chart(df_filtered).mark_bar().encode(\n",
    "        alt.X(\"speaker\", sort=speaker_order, title=\"Characters\"),\n",
    "        alt.Y(\"count()\", title=\"Count of Sentences\"),\n",
    "        color= alt.condition(click, alt.Color('pos_compund:N', scale=alt.Scale(domain=domain, range=range_)), alt.value('lightgray'))\n",
    "    ).add_params(\n",
    "        click\n",
    "    ).properties(\n",
    "        width=200,\n",
    "        title = \"Count of Sentences\"\n",
    "    )\n",
    "\n",
    "sentiment_points = alt.Chart(df_filtered).mark_point().encode(\n",
    "    x=alt.X(\"act_scene\", title=\"Act, Scene\"),\n",
    "    y=alt.Y('compound_sentiment:Q', title=\"Compound Sentiment\").scale(domain=(-1, 1)),\n",
    "    tooltip=alt.Tooltip(\"tooltip_text:N\"),\n",
    "    color=alt.Color(\"pos_compund\", title=\"Pos Compound\", scale=alt.Scale(domain=domain, range=range_))\n",
    ").transform_filter(\n",
    "    click\n",
    ").properties(\n",
    "    width = 200,\n",
    "    title= \"Act, Scene vs Compound Sentiment\"\n",
    ")\n",
    "\n",
    "\n",
    "moor_graph = (sentiment_points | speaker_hist).properties(title=\"Analysis of Sentences Including 'Moor'\")\n",
    "\n",
    "#moor_graph.save('moor_chart_sentiment_speaker.html')\n",
    "\n",
    "#speaker_hist"
   ]
  },
  {
   "cell_type": "code",
   "execution_count": 28,
   "metadata": {},
   "outputs": [
    {
     "name": "stderr",
     "output_type": "stream",
     "text": [
      "/var/folders/j0/5vzg02dn3ln14ntm75wgfw140000gn/T/ipykernel_46391/1655992193.py:15: SettingWithCopyWarning: \n",
      "A value is trying to be set on a copy of a slice from a DataFrame.\n",
      "Try using .loc[row_indexer,col_indexer] = value instead\n",
      "\n",
      "See the caveats in the documentation: https://pandas.pydata.org/pandas-docs/stable/user_guide/indexing.html#returning-a-view-versus-a-copy\n",
      "  df_words['words'] = df_words['text'].str.lower().str.split()\n"
     ]
    }
   ],
   "source": [
    "# NLTK's list of english stopwords\n",
    "stop_words = [\"i\", \"me\", \"my\", \"myself\", \"we\", \"our\", \"ours\", \"ourselves\", \"you\", \"your\", \"yours\", \"yourself\", \"yourselves\", \"he\", \n",
    "              \"him\", \"his\", \"himself\", \"she\", \"her\", \"hers\", \"herself\", \"it\", \"its\", \"itself\", \"they\", \"them\", \"their\", \"theirs\", \n",
    "              \"themselves\", \"what\", \"which\", \"who\", \"whom\", \"this\", \"that\", \"these\", \"those\", \"am\", \"is\", \"are\", \"was\", \"were\", \"be\", \n",
    "              \"been\", \"being\", \"have\", \"has\", \"had\", \"having\", \"do\", \"does\", \"did\", \"doing\", \"a\", \"an\", \"the\", \"and\", \"but\", \"if\", \"or\", \n",
    "              \"because\", \"as\", \"until\", \"while\", \"of\", \"at\", \"by\", \"for\", \"with\", \"about\", \"against\", \"between\", \"into\", \"through\", \"during\", \n",
    "              \"before\", \"after\", \"above\", \"below\", \"to\", \"from\", \"up\", \"down\", \"in\", \"out\", \"on\", \"off\", \"over\", \"under\", \"again\", \"further\", \n",
    "              \"then\", \"once\", \"here\", \"there\", \"when\", \"where\", \"why\", \"how\", \"all\", \"any\", \"both\", \"each\", \"few\", \"more\", \"most\", \"other\", \"some\", \n",
    "              \"such\", \"no\", \"nor\", \"not\", \"only\", \"own\", \"same\", \"so\", \"than\", \"too\", \"very\", \"s\", \"t\", \"can\", \"will\", \"just\", \"don\", \"should\", \"now\"]\n",
    "\n",
    "\n",
    "df_words = df[[\"speaker\", \"text\"]]\n",
    "\n",
    "# Step 1: Tokenize the text into words\n",
    "df_words['words'] = df_words['text'].str.lower().str.split()\n",
    "\n",
    "# Step 2: Explode so each word is in a separate row\n",
    "df_exploded = df_words.explode('words')\n",
    "\n",
    "df_exploded['words'] = df_exploded['words'].str.replace(r'[^\\w\\s]', '', regex=True)\n",
    "\n",
    "df_exploded = df_exploded[~df_exploded[\"words\"].isin(stop_words)]\n",
    "\n",
    "# Step 3: Drop duplicate (speaker, word) pairs\n",
    "df_unique = df_exploded[['speaker', 'words']].drop_duplicates()\n",
    "\n",
    "# Step 4: Group by word and count unique speakers\n",
    "word_speaker_counts = df_unique.groupby('words')['speaker'].nunique().reset_index(name=\"count\")\n",
    "\n",
    "# Step 5: Sort by the number of unique speakers\n",
    "word_speaker_counts = word_speaker_counts.sort_values(\"count\", ascending=False)\n",
    "\n",
    "words_10_char = word_speaker_counts[word_speaker_counts[\"count\"] == 10][\"words\"]"
   ]
  },
  {
   "cell_type": "code",
   "execution_count": 29,
   "metadata": {},
   "outputs": [],
   "source": [
    "df_10_char = pd.DataFrame(columns=[\"word\", \"count\"])\n",
    "\n",
    "for word in words_10_char:\n",
    "    temp_df = df[df['text'].str.contains(word, case=False)]\n",
    "    df_10_char.loc[len(df_10_char)] = [word, len(temp_df)]\n"
   ]
  },
  {
   "cell_type": "code",
   "execution_count": 30,
   "metadata": {},
   "outputs": [],
   "source": [
    "def color_for_chart(text):\n",
    "    if text == \"moor\":\n",
    "        return 2\n",
    "    elif text == \"cassio\":\n",
    "        return 1\n",
    "    else:\n",
    "        return 0\n",
    "\n",
    "df_10_char[\"for_color\"] = df_10_char[\"word\"].apply(color_for_chart)\n",
    "df_10_char[\"word\"] = df_10_char[\"word\"].str.title()\n",
    "\n",
    "domain = [0, 1, 2]\n",
    "range_ = [\"#077187\", \"#47682C\", \"#FFA600\"]\n",
    "\n",
    "char_10_chart=  alt.Chart(df_10_char).mark_bar().encode(\n",
    "    x = alt.X(\"word\", sort=\"-y\", title=\"Word\"),\n",
    "    y = alt.Y(\"count\", title=\"Count of Lines Containing\"),\n",
    "    color=alt.Color(\"for_color:N\", scale=alt.Scale(domain=domain, range=range_), legend=None)\n",
    ").properties(\n",
    "    title=\"Words Spoken by 10 Unique Characters\"\n",
    ")\n",
    "\n",
    "#char_10_chart.save(\"char_10.png\", ppi=200)"
   ]
  },
  {
   "cell_type": "code",
   "execution_count": 31,
   "metadata": {},
   "outputs": [
    {
     "data": {
      "text/html": [
       "<div>\n",
       "<style scoped>\n",
       "    .dataframe tbody tr th:only-of-type {\n",
       "        vertical-align: middle;\n",
       "    }\n",
       "\n",
       "    .dataframe tbody tr th {\n",
       "        vertical-align: top;\n",
       "    }\n",
       "\n",
       "    .dataframe thead th {\n",
       "        text-align: right;\n",
       "    }\n",
       "</style>\n",
       "<table border=\"1\" class=\"dataframe\">\n",
       "  <thead>\n",
       "    <tr style=\"text-align: right;\">\n",
       "      <th></th>\n",
       "      <th>words</th>\n",
       "      <th>count</th>\n",
       "    </tr>\n",
       "  </thead>\n",
       "  <tbody>\n",
       "    <tr>\n",
       "      <th>2222</th>\n",
       "      <td>othello</td>\n",
       "      <td>11</td>\n",
       "    </tr>\n",
       "  </tbody>\n",
       "</table>\n",
       "</div>"
      ],
      "text/plain": [
       "        words  count\n",
       "2222  othello     11"
      ]
     },
     "execution_count": 31,
     "metadata": {},
     "output_type": "execute_result"
    }
   ],
   "source": [
    "word_speaker_counts[word_speaker_counts[\"words\"] == \"othello\"]"
   ]
  },
  {
   "cell_type": "code",
   "execution_count": 32,
   "metadata": {},
   "outputs": [
    {
     "data": {
      "text/plain": [
       "array(['Duke', 'First Senator', 'Desdemona', 'Iago', 'Third Gentleman',\n",
       "       'Montano', 'Cassio', 'Herald', 'Othello', 'Roderigo', 'Gratiano',\n",
       "       'Lodovico'], dtype=object)"
      ]
     },
     "execution_count": 32,
     "metadata": {},
     "output_type": "execute_result"
    }
   ],
   "source": [
    "df[df['text'].str.contains('othello', case=False)][\"speaker\"].unique()"
   ]
  },
  {
   "cell_type": "code",
   "execution_count": 33,
   "metadata": {},
   "outputs": [
    {
     "data": {
      "text/plain": [
       "array(['Iago', 'Roderigo', 'Brabantio', 'First Senator', 'Desdemona',\n",
       "       'Third Gentleman', 'Cassio', 'Montano', 'Emilia', 'Lodovico'],\n",
       "      dtype=object)"
      ]
     },
     "execution_count": 33,
     "metadata": {},
     "output_type": "execute_result"
    }
   ],
   "source": [
    "df[df['text'].str.contains('moor', case=False)][\"speaker\"].unique()"
   ]
  },
  {
   "cell_type": "code",
   "execution_count": 34,
   "metadata": {},
   "outputs": [],
   "source": [
    "df[\"othello_boolean\"] = df['text'].str.contains('othello', case=False)\n",
    "\n",
    "df_othello = df[df[\"othello_boolean\"]]"
   ]
  },
  {
   "cell_type": "code",
   "execution_count": 37,
   "metadata": {},
   "outputs": [
    {
     "name": "stdout",
     "output_type": "stream",
     "text": [
      "<class 'pandas.core.series.Series'>\n",
      "Index: 35 entries, 222 to 2586\n",
      "Series name: compound_sentiment\n",
      "Non-Null Count  Dtype  \n",
      "--------------  -----  \n",
      "35 non-null     float64\n",
      "dtypes: float64(1)\n",
      "memory usage: 560.0 bytes\n"
     ]
    }
   ],
   "source": [
    "df_othello[\"compound_sentiment\"].info()"
   ]
  },
  {
   "cell_type": "code",
   "execution_count": 42,
   "metadata": {},
   "outputs": [
    {
     "data": {
      "text/plain": [
       "55"
      ]
     },
     "execution_count": 42,
     "metadata": {},
     "output_type": "execute_result"
    }
   ],
   "source": [
    "len(df[df['text'].str.contains('moor', case=False)])"
   ]
  },
  {
   "cell_type": "code",
   "execution_count": 45,
   "metadata": {},
   "outputs": [
    {
     "data": {
      "text/html": [
       "<div>\n",
       "<style scoped>\n",
       "    .dataframe tbody tr th:only-of-type {\n",
       "        vertical-align: middle;\n",
       "    }\n",
       "\n",
       "    .dataframe tbody tr th {\n",
       "        vertical-align: top;\n",
       "    }\n",
       "\n",
       "    .dataframe thead th {\n",
       "        text-align: right;\n",
       "    }\n",
       "</style>\n",
       "<table border=\"1\" class=\"dataframe\">\n",
       "  <thead>\n",
       "    <tr style=\"text-align: right;\">\n",
       "      <th></th>\n",
       "      <th>pos_compund</th>\n",
       "      <th>act</th>\n",
       "      <th>scene</th>\n",
       "      <th>sentence_number</th>\n",
       "      <th>speaker</th>\n",
       "      <th>text</th>\n",
       "      <th>neg_sentiment</th>\n",
       "      <th>neu_sentiment</th>\n",
       "      <th>pos_sentiment</th>\n",
       "      <th>compound_sentiment</th>\n",
       "      <th>act_scene</th>\n",
       "      <th>act_word</th>\n",
       "      <th>words_in_text</th>\n",
       "      <th>tooltip_text</th>\n",
       "      <th>moor_boolean</th>\n",
       "    </tr>\n",
       "  </thead>\n",
       "  <tbody>\n",
       "    <tr>\n",
       "      <th>0</th>\n",
       "      <td>False</td>\n",
       "      <td>17</td>\n",
       "      <td>17</td>\n",
       "      <td>17</td>\n",
       "      <td>17</td>\n",
       "      <td>17</td>\n",
       "      <td>17</td>\n",
       "      <td>17</td>\n",
       "      <td>17</td>\n",
       "      <td>17</td>\n",
       "      <td>17</td>\n",
       "      <td>17</td>\n",
       "      <td>17</td>\n",
       "      <td>17</td>\n",
       "      <td>17</td>\n",
       "    </tr>\n",
       "    <tr>\n",
       "      <th>1</th>\n",
       "      <td>True</td>\n",
       "      <td>38</td>\n",
       "      <td>38</td>\n",
       "      <td>38</td>\n",
       "      <td>38</td>\n",
       "      <td>38</td>\n",
       "      <td>38</td>\n",
       "      <td>38</td>\n",
       "      <td>38</td>\n",
       "      <td>38</td>\n",
       "      <td>38</td>\n",
       "      <td>38</td>\n",
       "      <td>38</td>\n",
       "      <td>38</td>\n",
       "      <td>38</td>\n",
       "    </tr>\n",
       "  </tbody>\n",
       "</table>\n",
       "</div>"
      ],
      "text/plain": [
       "   pos_compund  act  scene  sentence_number  speaker  text  neg_sentiment  \\\n",
       "0        False   17     17               17       17    17             17   \n",
       "1         True   38     38               38       38    38             38   \n",
       "\n",
       "   neu_sentiment  pos_sentiment  compound_sentiment  act_scene  act_word  \\\n",
       "0             17             17                  17         17        17   \n",
       "1             38             38                  38         38        38   \n",
       "\n",
       "   words_in_text  tooltip_text  moor_boolean  \n",
       "0             17            17            17  \n",
       "1             38            38            38  "
      ]
     },
     "execution_count": 45,
     "metadata": {},
     "output_type": "execute_result"
    }
   ],
   "source": [
    "df_moor.groupby('pos_compund').count().reset_index()"
   ]
  }
 ],
 "metadata": {
  "kernelspec": {
   "display_name": "Python 3",
   "language": "python",
   "name": "python3"
  },
  "language_info": {
   "codemirror_mode": {
    "name": "ipython",
    "version": 3
   },
   "file_extension": ".py",
   "mimetype": "text/x-python",
   "name": "python",
   "nbconvert_exporter": "python",
   "pygments_lexer": "ipython3",
   "version": "3.12.2"
  },
  "orig_nbformat": 4,
  "vscode": {
   "interpreter": {
    "hash": "aee8b7b246df8f9039afb4144a1f6fd8d2ca17a180786b69acc140d282b71a49"
   }
  }
 },
 "nbformat": 4,
 "nbformat_minor": 2
}
