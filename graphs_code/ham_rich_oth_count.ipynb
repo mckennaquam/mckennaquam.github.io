{
 "cells": [
  {
   "cell_type": "code",
   "execution_count": 1,
   "metadata": {},
   "outputs": [],
   "source": [
    "import pandas as pd\n",
    "import altair as alt"
   ]
  },
  {
   "cell_type": "code",
   "execution_count": 3,
   "metadata": {},
   "outputs": [],
   "source": [
    "def act_scene(row):\n",
    "    act = str(row[\"act\"]).strip()\n",
    "    scene = str(row[\"scene\"]).strip()\n",
    "    return act + \".\" + scene\n",
    "\n",
    "def words_in_sentence(text):\n",
    "    return len(text.split())\n",
    "\n",
    "df_oth = pd.read_csv(\"/Users/mckennaquam/Desktop/ENGL 1600/final_proj/csvs/othello_by_uninterupted_speaker.csv\", index_col=0)\n",
    "df_oth = df_oth[df_oth[\"speaker\"] == \"OTHELLO\"]\n",
    "df_oth[\"speaker\"] = df_oth[\"speaker\"].str.title()\n",
    "df_oth[\"act_scene\"] = df_oth.apply(act_scene, axis=1)\n",
    "df_oth[\"words_in_text\"] = df_oth[\"text\"].apply(words_in_sentence)\n",
    "df_oth['cumulative_words_spoken'] = df_oth['words_in_text'].cumsum()\n",
    "\n",
    "df_ham = pd.read_csv(\"/Users/mckennaquam/Desktop/ENGL 1600/final_proj/csvs/hamlet_by_uninterupted_speaker.csv\", index_col=0)\n",
    "df_ham = df_ham[df_ham[\"speaker\"] == \"HAMLET\"]\n",
    "df_ham[\"speaker\"] = df_ham[\"speaker\"].str.title()\n",
    "df_ham[\"act_scene\"] = df_ham.apply(act_scene, axis=1)\n",
    "df_ham[\"words_in_text\"] = df_ham[\"text\"].apply(words_in_sentence)\n",
    "df_ham['cumulative_words_spoken'] = df_ham['words_in_text'].cumsum()\n",
    "\n",
    "df_rich = pd.read_csv(\"/Users/mckennaquam/Desktop/ENGL 1600/final_proj/csvs/richardiii_by_uninterupted_speaker.csv\", index_col=0)\n",
    "df_rich = df_rich[df_rich[\"speaker\"] == \"RICHARD\"]\n",
    "df_rich[\"speaker\"] = df_rich[\"speaker\"].str.title()\n",
    "df_rich[\"speaker\"] = df_rich[\"speaker\"] + \" III\"\n",
    "df_rich[\"act_scene\"] = df_rich.apply(act_scene, axis=1)\n",
    "df_rich[\"words_in_text\"] = df_rich[\"text\"].apply(words_in_sentence)\n",
    "df_rich['cumulative_words_spoken'] = df_rich['words_in_text'].cumsum()\n",
    "\n",
    "df_titular = pd.concat([df_oth, df_ham], axis=0)\n",
    "df_titular = pd.concat([df_titular, df_rich], axis=0)"
   ]
  },
  {
   "cell_type": "code",
   "execution_count": 13,
   "metadata": {},
   "outputs": [],
   "source": [
    "domain = [\"Hamlet\", \"Othello\", \"Richard III\"]\n",
    "range_ = [\"#077187\", \"#FFA600\", \"#DB8180\"]\n",
    "\n",
    "df_titular_filtered = df_titular[[\"speaker\", \"act_scene\", \"words_in_text\"]]\n",
    "\n",
    "titular_chart = alt.Chart(df_titular_filtered).transform_window(\n",
    "    cumulative='sum(words_in_text)',\n",
    "     sort=[{\"field\": \"act_scene\"}],\n",
    "     groupby=['speaker'],\n",
    ").mark_line().encode(\n",
    "    x=alt.X('act_scene:N', title=\"Act, Scene\"),\n",
    "    y=alt.Y('cumulative:Q', title=\"Cumulative Words Spoken\"),\n",
    "    color=alt.Color('speaker:N', title=\"Character\", scale=alt.Scale(domain=domain, range=range_))\n",
    ").properties(\n",
    "    title=\"Cumulative Words Spoken by Titular Shakespeare Characters\"\n",
    ")\n",
    "\n",
    "titular_chart.save(\"titular_chart.png\", ppi=200)"
   ]
  },
  {
   "cell_type": "code",
   "execution_count": 5,
   "metadata": {},
   "outputs": [
    {
     "data": {
      "text/plain": [
       "speaker\n",
       "Hamlet         11537\n",
       "Othello         6210\n",
       "Richard III     8789\n",
       "Name: cumulative_words_spoken, dtype: int64"
      ]
     },
     "execution_count": 5,
     "metadata": {},
     "output_type": "execute_result"
    }
   ],
   "source": [
    "df_titular.groupby('speaker')['cumulative_words_spoken'].max()"
   ]
  },
  {
   "cell_type": "code",
   "execution_count": 16,
   "metadata": {},
   "outputs": [],
   "source": [
    "df_iago = pd.read_csv(\"/Users/mckennaquam/Desktop/ENGL 1600/final_proj/csvs/othello_by_uninterupted_speaker.csv\")\n",
    "df_iago = df_iago[df_iago[\"speaker\"] == \"IAGO\"]\n",
    "\n",
    "domain = [\"Othello\", \"Iago\", \"Hamlet\"]\n",
    "range_ = [\"#FFA600\", \"#D11033\", \"#077187\"]\n",
    "\n",
    "\n",
    "df_iago[\"act_scene\"] = df_iago.apply(act_scene, axis=1)\n",
    "df_iago[\"words_in_text\"] = df_iago[\"text\"].apply(words_in_sentence)\n",
    "df_iago[\"speaker\"] = df_iago[\"speaker\"].str.title()\n",
    "\n",
    "df_iago = df_iago[[\"speaker\", \"act_scene\", \"words_in_text\"]]\n",
    "\n",
    "df_titular_2 = pd.concat([df_titular, df_iago], axis=0)\n",
    "\n",
    "df_titular_2 = df_titular_2[df_titular_2[\"speaker\"] != \"Richard III\"]\n",
    "\n",
    "titular_iago_chart = alt.Chart(df_titular_2).transform_window(\n",
    "    cumulative='sum(words_in_text)',\n",
    "     sort=[{\"field\": \"act_scene\"}],\n",
    "     groupby=['speaker']\n",
    ").mark_line().encode(\n",
    "    x=alt.X('act_scene:N', title = \"Act, Secene\"),\n",
    "    y=alt.Y('cumulative:Q', title=\"Cumulative Words Spoken\"),\n",
    "    color=alt.Color('speaker:N', title=\"Character\", scale=alt.Scale(domain=domain, range=range_)),\n",
    "    strokeDash=alt.condition(alt.datum.speaker=='Hamlet', alt.value([5, 5]), alt.value([0]))\n",
    ").properties(\n",
    "    title = \"Cumulative Words Spoken by Titular Characters and Iago\",\n",
    "    width= 400\n",
    ")\n",
    "\n",
    "titular_iago_chart.save(\"titular_iago.png\", ppi=200)\n"
   ]
  },
  {
   "cell_type": "code",
   "execution_count": null,
   "metadata": {},
   "outputs": [
    {
     "data": {
      "text/html": [
       "<div>\n",
       "<style scoped>\n",
       "    .dataframe tbody tr th:only-of-type {\n",
       "        vertical-align: middle;\n",
       "    }\n",
       "\n",
       "    .dataframe tbody tr th {\n",
       "        vertical-align: top;\n",
       "    }\n",
       "\n",
       "    .dataframe thead th {\n",
       "        text-align: right;\n",
       "    }\n",
       "</style>\n",
       "<table border=\"1\" class=\"dataframe\">\n",
       "  <thead>\n",
       "    <tr style=\"text-align: right;\">\n",
       "      <th></th>\n",
       "      <th>count</th>\n",
       "      <th>max</th>\n",
       "      <th>mean</th>\n",
       "    </tr>\n",
       "    <tr>\n",
       "      <th>speaker</th>\n",
       "      <th></th>\n",
       "      <th></th>\n",
       "      <th></th>\n",
       "    </tr>\n",
       "  </thead>\n",
       "  <tbody>\n",
       "    <tr>\n",
       "      <th>Iago</th>\n",
       "      <td>273</td>\n",
       "      <td>259</td>\n",
       "      <td>30.692308</td>\n",
       "    </tr>\n",
       "    <tr>\n",
       "      <th>Othello</th>\n",
       "      <td>273</td>\n",
       "      <td>344</td>\n",
       "      <td>22.747253</td>\n",
       "    </tr>\n",
       "  </tbody>\n",
       "</table>\n",
       "</div>"
      ],
      "text/plain": [
       "         count  max       mean\n",
       "speaker                       \n",
       "Iago       273  259  30.692308\n",
       "Othello    273  344  22.747253"
      ]
     },
     "execution_count": 19,
     "metadata": {},
     "output_type": "execute_result"
    }
   ],
   "source": [
    "df_oth.groupby(\"speaker\")[\"words_in_text\"].agg([\"count\", \"max\", \"mean\"])"
   ]
  },
  {
   "cell_type": "code",
   "execution_count": null,
   "metadata": {},
   "outputs": [
    {
     "data": {
      "text/plain": [
       "speaker\n",
       "Iago       13\n",
       "Othello    12\n",
       "Name: act_scene, dtype: int64"
      ]
     },
     "execution_count": 20,
     "metadata": {},
     "output_type": "execute_result"
    }
   ],
   "source": [
    "df_oth.groupby(\"speaker\")[\"act_scene\"].nunique()"
   ]
  },
  {
   "cell_type": "code",
   "execution_count": null,
   "metadata": {},
   "outputs": [
    {
     "data": {
      "text/html": [
       "<div>\n",
       "<style scoped>\n",
       "    .dataframe tbody tr th:only-of-type {\n",
       "        vertical-align: middle;\n",
       "    }\n",
       "\n",
       "    .dataframe tbody tr th {\n",
       "        vertical-align: top;\n",
       "    }\n",
       "\n",
       "    .dataframe thead th {\n",
       "        text-align: right;\n",
       "    }\n",
       "</style>\n",
       "<table border=\"1\" class=\"dataframe\">\n",
       "  <thead>\n",
       "    <tr style=\"text-align: right;\">\n",
       "      <th></th>\n",
       "      <th>Unnamed: 0</th>\n",
       "      <th>act</th>\n",
       "      <th>scene</th>\n",
       "      <th>sentence_number</th>\n",
       "      <th>speaker</th>\n",
       "      <th>text</th>\n",
       "      <th>words_in_text</th>\n",
       "    </tr>\n",
       "  </thead>\n",
       "  <tbody>\n",
       "    <tr>\n",
       "      <th>116</th>\n",
       "      <td>116</td>\n",
       "      <td>1</td>\n",
       "      <td>3</td>\n",
       "      <td>40</td>\n",
       "      <td>OTHELLO</td>\n",
       "      <td>Her father loved me, oft invited me, Still que...</td>\n",
       "      <td>344</td>\n",
       "    </tr>\n",
       "  </tbody>\n",
       "</table>\n",
       "</div>"
      ],
      "text/plain": [
       "     Unnamed: 0  act  scene  sentence_number  speaker  \\\n",
       "116         116    1      3               40  OTHELLO   \n",
       "\n",
       "                                                  text  words_in_text  \n",
       "116  Her father loved me, oft invited me, Still que...            344  "
      ]
     },
     "execution_count": 21,
     "metadata": {},
     "output_type": "execute_result"
    }
   ],
   "source": [
    "df_oth = pd.read_csv(\"csvs/othello_by_uninterupted_speaker.csv\")\n",
    "\n",
    "\n",
    "df_oth[\"words_in_text\"] = df_oth[\"text\"].apply(words_in_sentence)\n",
    "\n",
    "\n",
    "df_oth[df_oth[\"words_in_text\"] == max(df_oth[\"words_in_text\"])]"
   ]
  }
 ],
 "metadata": {
  "kernelspec": {
   "display_name": "Python 3",
   "language": "python",
   "name": "python3"
  },
  "language_info": {
   "codemirror_mode": {
    "name": "ipython",
    "version": 3
   },
   "file_extension": ".py",
   "mimetype": "text/x-python",
   "name": "python",
   "nbconvert_exporter": "python",
   "pygments_lexer": "ipython3",
   "version": "3.12.2"
  },
  "orig_nbformat": 4,
  "vscode": {
   "interpreter": {
    "hash": "aee8b7b246df8f9039afb4144a1f6fd8d2ca17a180786b69acc140d282b71a49"
   }
  }
 },
 "nbformat": 4,
 "nbformat_minor": 2
}
